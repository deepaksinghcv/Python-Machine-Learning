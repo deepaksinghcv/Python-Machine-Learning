{
 "cells": [
  {
   "cell_type": "markdown",
   "metadata": {},
   "source": [
    "### Theory"
   ]
  },
  {
   "cell_type": "raw",
   "metadata": {},
   "source": [
    "Random forests provide good classification performance, scalability, and ease of use.\n",
    "\n",
    "Intuitively, a random forest can be considered as an ensemble of decision trees. The idea behind ensemble learning is to combine weak learners to build a more robust model.\n",
    "\n",
    "A strong learner that has a better generalization error and is less susceptible to overfitting.\n"
   ]
  },
  {
   "cell_type": "raw",
   "metadata": {},
   "source": [
    "The random forest algorithm can be summarized in 4 simple steps:\n",
    "\n",
    "1) Draw a random bootstrap sample of size n( randomly choose n samples from the training set with replacement).\n",
    "2) Grow a decision tree from the bootstrap sample. At each node:\n",
    "    a) Randomly select d features without replacement.\n",
    "    b) Split the node using the feature that provides the best split according to the objective function, for instance, by maximizing the information gain.\n",
    "    \n",
    "3) Repeat step 1 to 2 --> k times\n",
    "4) Aggregate the prediction by each tree to assign the class label by majority vote."
   ]
  },
  {
   "cell_type": "raw",
   "metadata": {},
   "source": [
    "In random forests while training the individual decision trees, instead of evaluating all features to determine the best split at each node, we only consider a random subset of those.\n"
   ]
  },
  {
   "cell_type": "raw",
   "metadata": {},
   "source": [
    "Drawbacks:\n",
    "    Random forests dont offer the same level of interpretability as decision trees.\n",
    "Advantage:\n",
    "    We dont have to worry about choosing good hyperparameter values.\n",
    "    We typically dont need to prune the random forest since the ensemble model is quite robust to noise from the individual decision trees.\n",
    "    \n",
    "    \n",
    "The only parameter that we really need to care about in practice is the number of trees k (Used in step 3 ,above).\n",
    "\n",
    "The larger the number of trees, the better the performance of the random forest classifier at the expense of an increased computational cost.\n"
   ]
  },
  {
   "cell_type": "raw",
   "metadata": {},
   "source": [
    "Less common in practice, other hyperparameters of the random forest classifier are:\n",
    "    n = the size of the bootstrap sample.\n",
    "    d =  the number of features that is randomly chosen for each split.\n",
    "    \n",
    "Sample size n controls the bias-variance tradeoff:\n",
    "    larger n -> we decrease the randomness and thus the forest is more likely to overfit.\n",
    "    smaller n -> reduces the degree of overfitting but at the cost of model performance.\n",
    "    \n",
    "For number of features d at each split:\n",
    "    We want to choose a value that is smaller than the total number of features in the training set. \n",
    "    A reasonable default that is used in scikit-learn and other implementation is d= sqrt(m) where m \n",
    "    is the number of features in the training set.\n",
    "    "
   ]
  },
  {
   "cell_type": "code",
   "execution_count": 1,
   "metadata": {
    "ExecuteTime": {
     "end_time": "2019-02-20T14:14:26.916153Z",
     "start_time": "2019-02-20T14:14:26.703596Z"
    }
   },
   "outputs": [],
   "source": [
    "from matplotlib.colors import ListedColormap\n",
    "import matplotlib.pyplot as plt\n",
    "\n",
    "def plot_decision_regions(X,y,classifier,test_idx = None,resolution=0.02):\n",
    "    #setup marker generator and color map\n",
    "    \n",
    "    \n",
    "    markers = ('s','x','o','^','v')\n",
    "    \n",
    "    colors = ('red','blue','lightgreen','gray','cyan')\n",
    "    \n",
    "    cmap = ListedColormap(colors[:len(np.unique(y))])\n",
    "    \n",
    "    #plot the decision surface\n",
    "    x1_min,x1_max = X[:,0].min()-1, X[:,0].max()+1\n",
    "    x2_min,x2_max = X[:,1].min()-1, X[:,0].max()+1\n",
    "    \n",
    "    xx1,xx2 = np.meshgrid(np.arange(x1_min,x1_max,resolution),np.arange(x2_min,x2_max,resolution))\n",
    "    \n",
    "    Z = classifier.predict(np.array([xx1.ravel(),xx2.ravel()]).T)\n",
    "    Z = Z.reshape(xx1.shape)\n",
    "    \n",
    "    plt.contourf(xx1,xx2,Z,alpha=0.4,cmap = cmap)\n",
    "    plt.xlim(xx1.min(),xx1.max())\n",
    "    plt.ylim(xx2.min(),xx2.max())\n",
    "    \n",
    "    #plot class samples\n",
    "    for idx,c1 in enumerate(np.unique(y)):\n",
    "        plt.scatter(x=X[y==c1,0],y=X[y==c1,1], alpha=0.8,c = cmap(idx),marker=markers[idx],label=c1)\n",
    "        \n",
    "    #highlight test samples\n",
    "    if test_idx:\n",
    "        X_test,y_test = X[test_idx,:],y[test_idx]\n",
    "        plt.scatter(X_test[:,0],X_test[:,1],c='',alpha=1.0,linewidth=1,marker='o',s=55,label='test set')"
   ]
  },
  {
   "cell_type": "code",
   "execution_count": 2,
   "metadata": {
    "ExecuteTime": {
     "end_time": "2019-02-20T14:15:26.202779Z",
     "start_time": "2019-02-20T14:15:25.944385Z"
    }
   },
   "outputs": [
    {
     "name": "stderr",
     "output_type": "stream",
     "text": [
      "/home/deepak/anaconda3/lib/python3.6/site-packages/sklearn/cross_validation.py:41: DeprecationWarning: This module was deprecated in version 0.18 in favor of the model_selection module into which all the refactored classes and functions are moved. Also note that the interface of the new CV iterators are different from that of this module. This module will be removed in 0.20.\n",
      "  \"This module will be removed in 0.20.\", DeprecationWarning)\n"
     ]
    }
   ],
   "source": [
    "from sklearn import datasets\n",
    "import numpy as np\n",
    "\n",
    "iris = datasets.load_iris()\n",
    "X = iris.data[:,[2,3]]\n",
    "y = iris.target\n",
    "\n",
    "from sklearn.cross_validation import train_test_split\n",
    "\n",
    "X_train,X_test, y_train, y_test = train_test_split(X,y,test_size=0.3,random_state=0)\n",
    "\n",
    "X_combined = np.vstack((X_train,X_test))\n",
    "y_combined = np.hstack((y_train,y_test))"
   ]
  },
  {
   "cell_type": "markdown",
   "metadata": {},
   "source": [
    "### Code"
   ]
  },
  {
   "cell_type": "code",
   "execution_count": 15,
   "metadata": {
    "ExecuteTime": {
     "end_time": "2019-02-20T14:24:22.387408Z",
     "start_time": "2019-02-20T14:24:21.887835Z"
    }
   },
   "outputs": [
    {
     "name": "stderr",
     "output_type": "stream",
     "text": [
      "'c' argument looks like a single numeric RGB or RGBA sequence, which should be avoided as value-mapping will have precedence in case its length matches with 'x' & 'y'.  Please use a 2-D array with a single row if you really want to specify the same RGB or RGBA value for all points.\n",
      "'c' argument looks like a single numeric RGB or RGBA sequence, which should be avoided as value-mapping will have precedence in case its length matches with 'x' & 'y'.  Please use a 2-D array with a single row if you really want to specify the same RGB or RGBA value for all points.\n",
      "'c' argument looks like a single numeric RGB or RGBA sequence, which should be avoided as value-mapping will have precedence in case its length matches with 'x' & 'y'.  Please use a 2-D array with a single row if you really want to specify the same RGB or RGBA value for all points.\n"
     ]
    },
    {
     "data": {
      "image/png": "[encoded data removed]",
      "text/plain": [
       "<Figure size 432x288 with 1 Axes>"
      ]
     },
     "metadata": {},
     "output_type": "display_data"
    }
   ],
   "source": [
    "'''Conveniently, we dont have to construct the random forest classifier from individual decision trees by \n",
    " ourselves, there is already an implementation in scikit-learn.'''\n",
    "\n",
    "from sklearn.ensemble import RandomForestClassifier\n",
    "\n",
    "forest = RandomForestClassifier(criterion='entropy', n_estimators=10,random_state=1,n_jobs=2)\n",
    "#n_estimators -> number of decision trees\n",
    "#entropy is the impurity measure to split the nodes\n",
    "#n_jobs -> how many cores to use to train the model\n",
    "\n",
    "forest.fit(X_train,y_train)\n",
    "\n",
    "plot_decision_regions(X_combined,y_combined,classifier=forest,test_idx=None)#range(105,150))\n",
    "\n",
    "plt.xlabel('petal length')\n",
    "plt.ylabel('petal width')\n",
    "plt.legend(loc='upper left')\n",
    "plt.show()\n",
    "\n"
   ]
  },
  {
   "cell_type": "code",
   "execution_count": null,
   "metadata": {},
   "outputs": [],
   "source": []
  }
 ],
 "metadata": {
  "kernelspec": {
   "display_name": "Python 3",
   "language": "python",
   "name": "python3"
  },
  "language_info": {
   "codemirror_mode": {
    "name": "ipython",
    "version": 3
   },
   "file_extension": ".py",
   "mimetype": "text/x-python",
   "name": "python",
   "nbconvert_exporter": "python",
   "pygments_lexer": "ipython3",
   "version": "3.6.8"
  },
  "varInspector": {
   "cols": {
    "lenName": 16,
    "lenType": 16,
    "lenVar": 40
   },
   "kernels_config": {
    "python": {
     "delete_cmd_postfix": "",
     "delete_cmd_prefix": "del ",
     "library": "var_list.py",
     "varRefreshCmd": "print(var_dic_list())"
    },
    "r": {
     "delete_cmd_postfix": ") ",
     "delete_cmd_prefix": "rm(",
     "library": "var_list.r",
     "varRefreshCmd": "cat(var_dic_list()) "
    }
   },
   "types_to_exclude": [
    "module",
    "function",
    "builtin_function_or_method",
    "instance",
    "_Feature"
   ],
   "window_display": false
  }
 },
 "nbformat": 4,
 "nbformat_minor": 2
}
